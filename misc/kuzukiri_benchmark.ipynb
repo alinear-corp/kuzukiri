{
  "nbformat": 4,
  "nbformat_minor": 0,
  "metadata": {
    "colab": {
      "name": "kuzukiri_benchmark.ipynb",
      "provenance": [],
      "collapsed_sections": []
    },
    "kernelspec": {
      "name": "python3",
      "display_name": "Python 3"
    },
    "language_info": {
      "name": "python"
    }
  },
  "cells": [
    {
      "cell_type": "markdown",
      "source": [
        "# Benchmark"
      ],
      "metadata": {
        "id": "uuP6Faot7URw"
      }
    },
    {
      "cell_type": "code",
      "source": [
        "! cat /proc/cpuinfo"
      ],
      "metadata": {
        "colab": {
          "base_uri": "https://localhost:8080/"
        },
        "id": "yNZcGXKLCKrG",
        "outputId": "26a113b4-529b-4755-a703-a525de100df1"
      },
      "execution_count": 1,
      "outputs": [
        {
          "output_type": "stream",
          "name": "stdout",
          "text": [
            "processor\t: 0\n",
            "vendor_id\t: GenuineIntel\n",
            "cpu family\t: 6\n",
            "model\t\t: 79\n",
            "model name\t: Intel(R) Xeon(R) CPU @ 2.20GHz\n",
            "stepping\t: 0\n",
            "microcode\t: 0x1\n",
            "cpu MHz\t\t: 2200.136\n",
            "cache size\t: 56320 KB\n",
            "physical id\t: 0\n",
            "siblings\t: 2\n",
            "core id\t\t: 0\n",
            "cpu cores\t: 1\n",
            "apicid\t\t: 0\n",
            "initial apicid\t: 0\n",
            "fpu\t\t: yes\n",
            "fpu_exception\t: yes\n",
            "cpuid level\t: 13\n",
            "wp\t\t: yes\n",
            "flags\t\t: fpu vme de pse tsc msr pae mce cx8 apic sep mtrr pge mca cmov pat pse36 clflush mmx fxsr sse sse2 ss ht syscall nx pdpe1gb rdtscp lm constant_tsc rep_good nopl xtopology nonstop_tsc cpuid tsc_known_freq pni pclmulqdq ssse3 fma cx16 pcid sse4_1 sse4_2 x2apic movbe popcnt aes xsave avx f16c rdrand hypervisor lahf_lm abm 3dnowprefetch invpcid_single ssbd ibrs ibpb stibp fsgsbase tsc_adjust bmi1 hle avx2 smep bmi2 erms invpcid rtm rdseed adx smap xsaveopt arat md_clear arch_capabilities\n",
            "bugs\t\t: cpu_meltdown spectre_v1 spectre_v2 spec_store_bypass l1tf mds swapgs taa\n",
            "bogomips\t: 4400.27\n",
            "clflush size\t: 64\n",
            "cache_alignment\t: 64\n",
            "address sizes\t: 46 bits physical, 48 bits virtual\n",
            "power management:\n",
            "\n",
            "processor\t: 1\n",
            "vendor_id\t: GenuineIntel\n",
            "cpu family\t: 6\n",
            "model\t\t: 79\n",
            "model name\t: Intel(R) Xeon(R) CPU @ 2.20GHz\n",
            "stepping\t: 0\n",
            "microcode\t: 0x1\n",
            "cpu MHz\t\t: 2200.136\n",
            "cache size\t: 56320 KB\n",
            "physical id\t: 0\n",
            "siblings\t: 2\n",
            "core id\t\t: 0\n",
            "cpu cores\t: 1\n",
            "apicid\t\t: 1\n",
            "initial apicid\t: 1\n",
            "fpu\t\t: yes\n",
            "fpu_exception\t: yes\n",
            "cpuid level\t: 13\n",
            "wp\t\t: yes\n",
            "flags\t\t: fpu vme de pse tsc msr pae mce cx8 apic sep mtrr pge mca cmov pat pse36 clflush mmx fxsr sse sse2 ss ht syscall nx pdpe1gb rdtscp lm constant_tsc rep_good nopl xtopology nonstop_tsc cpuid tsc_known_freq pni pclmulqdq ssse3 fma cx16 pcid sse4_1 sse4_2 x2apic movbe popcnt aes xsave avx f16c rdrand hypervisor lahf_lm abm 3dnowprefetch invpcid_single ssbd ibrs ibpb stibp fsgsbase tsc_adjust bmi1 hle avx2 smep bmi2 erms invpcid rtm rdseed adx smap xsaveopt arat md_clear arch_capabilities\n",
            "bugs\t\t: cpu_meltdown spectre_v1 spectre_v2 spec_store_bypass l1tf mds swapgs taa\n",
            "bogomips\t: 4400.27\n",
            "clflush size\t: 64\n",
            "cache_alignment\t: 64\n",
            "address sizes\t: 46 bits physical, 48 bits virtual\n",
            "power management:\n",
            "\n"
          ]
        }
      ]
    },
    {
      "cell_type": "code",
      "source": [
        "! cat /proc/meminfo"
      ],
      "metadata": {
        "colab": {
          "base_uri": "https://localhost:8080/"
        },
        "id": "gvOjJou7CNpC",
        "outputId": "9f4c2191-d4f6-4678-a8d4-5e9e28125308"
      },
      "execution_count": 2,
      "outputs": [
        {
          "output_type": "stream",
          "name": "stdout",
          "text": [
            "MemTotal:       13302924 kB\n",
            "MemFree:        10916752 kB\n",
            "MemAvailable:   12480276 kB\n",
            "Buffers:           87656 kB\n",
            "Cached:          1631080 kB\n",
            "SwapCached:            0 kB\n",
            "Active:           936152 kB\n",
            "Inactive:        1237360 kB\n",
            "Active(anon):     423004 kB\n",
            "Inactive(anon):      456 kB\n",
            "Active(file):     513148 kB\n",
            "Inactive(file):  1236904 kB\n",
            "Unevictable:           0 kB\n",
            "Mlocked:               0 kB\n",
            "SwapTotal:             0 kB\n",
            "SwapFree:              0 kB\n",
            "Dirty:              1268 kB\n",
            "Writeback:             0 kB\n",
            "AnonPages:        454740 kB\n",
            "Mapped:           238788 kB\n",
            "Shmem:              1184 kB\n",
            "KReclaimable:     109896 kB\n",
            "Slab:             151496 kB\n",
            "SReclaimable:     109896 kB\n",
            "SUnreclaim:        41600 kB\n",
            "KernelStack:        4976 kB\n",
            "PageTables:         6224 kB\n",
            "NFS_Unstable:          0 kB\n",
            "Bounce:                0 kB\n",
            "WritebackTmp:          0 kB\n",
            "CommitLimit:     6651460 kB\n",
            "Committed_AS:    3261200 kB\n",
            "VmallocTotal:   34359738367 kB\n",
            "VmallocUsed:        7372 kB\n",
            "VmallocChunk:          0 kB\n",
            "Percpu:             1424 kB\n",
            "AnonHugePages:         0 kB\n",
            "ShmemHugePages:        0 kB\n",
            "ShmemPmdMapped:        0 kB\n",
            "FileHugePages:         0 kB\n",
            "FilePmdMapped:         0 kB\n",
            "CmaTotal:              0 kB\n",
            "CmaFree:               0 kB\n",
            "HugePages_Total:       0\n",
            "HugePages_Free:        0\n",
            "HugePages_Rsvd:        0\n",
            "HugePages_Surp:        0\n",
            "Hugepagesize:       2048 kB\n",
            "Hugetlb:               0 kB\n",
            "DirectMap4k:      105280 kB\n",
            "DirectMap2M:     5134336 kB\n",
            "DirectMap1G:    10485760 kB\n"
          ]
        }
      ]
    },
    {
      "cell_type": "markdown",
      "source": [
        "## create environments"
      ],
      "metadata": {
        "id": "UT2XNMra7X2_"
      }
    },
    {
      "cell_type": "code",
      "source": [
        "! apt install rustc"
      ],
      "metadata": {
        "colab": {
          "base_uri": "https://localhost:8080/"
        },
        "id": "o9NMkYPd42UP",
        "outputId": "66ce8ff0-b696-436e-eae0-8c4baa11042b"
      },
      "execution_count": 3,
      "outputs": [
        {
          "output_type": "stream",
          "name": "stdout",
          "text": [
            "Reading package lists... Done\n",
            "Building dependency tree       \n",
            "Reading state information... Done\n",
            "The following additional packages will be installed:\n",
            "  cargo libstd-rust-1.53 libstd-rust-dev\n",
            "Suggested packages:\n",
            "  cargo-doc lld-12 clang-12\n",
            "Recommended packages:\n",
            "  llvm-12\n",
            "The following NEW packages will be installed:\n",
            "  cargo libstd-rust-1.53 libstd-rust-dev rustc\n",
            "0 upgraded, 4 newly installed, 0 to remove and 37 not upgraded.\n",
            "Need to get 74.5 MB of archives.\n",
            "After this operation, 365 MB of additional disk space will be used.\n",
            "Get:1 http://archive.ubuntu.com/ubuntu bionic-updates/universe amd64 libstd-rust-1.53 amd64 1.53.0+dfsg1+llvm-4ubuntu1~18.04.1 [35.8 MB]\n",
            "Get:2 http://archive.ubuntu.com/ubuntu bionic-updates/universe amd64 libstd-rust-dev amd64 1.53.0+dfsg1+llvm-4ubuntu1~18.04.1 [32.7 MB]\n",
            "Get:3 http://archive.ubuntu.com/ubuntu bionic-updates/universe amd64 rustc amd64 1.53.0+dfsg1+llvm-4ubuntu1~18.04.1 [2,683 kB]\n",
            "Get:4 http://archive.ubuntu.com/ubuntu bionic-updates/universe amd64 cargo amd64 0.54.0-0ubuntu1~18.04.1 [3,319 kB]\n",
            "Fetched 74.5 MB in 3s (27.0 MB/s)\n",
            "Selecting previously unselected package libstd-rust-1.53:amd64.\n",
            "(Reading database ... 155222 files and directories currently installed.)\n",
            "Preparing to unpack .../libstd-rust-1.53_1.53.0+dfsg1+llvm-4ubuntu1~18.04.1_amd64.deb ...\n",
            "Unpacking libstd-rust-1.53:amd64 (1.53.0+dfsg1+llvm-4ubuntu1~18.04.1) ...\n",
            "Selecting previously unselected package libstd-rust-dev:amd64.\n",
            "Preparing to unpack .../libstd-rust-dev_1.53.0+dfsg1+llvm-4ubuntu1~18.04.1_amd64.deb ...\n",
            "Unpacking libstd-rust-dev:amd64 (1.53.0+dfsg1+llvm-4ubuntu1~18.04.1) ...\n",
            "Selecting previously unselected package rustc.\n",
            "Preparing to unpack .../rustc_1.53.0+dfsg1+llvm-4ubuntu1~18.04.1_amd64.deb ...\n",
            "Unpacking rustc (1.53.0+dfsg1+llvm-4ubuntu1~18.04.1) ...\n",
            "Selecting previously unselected package cargo.\n",
            "Preparing to unpack .../cargo_0.54.0-0ubuntu1~18.04.1_amd64.deb ...\n",
            "Unpacking cargo (0.54.0-0ubuntu1~18.04.1) ...\n",
            "Setting up libstd-rust-1.53:amd64 (1.53.0+dfsg1+llvm-4ubuntu1~18.04.1) ...\n",
            "Setting up libstd-rust-dev:amd64 (1.53.0+dfsg1+llvm-4ubuntu1~18.04.1) ...\n",
            "Setting up rustc (1.53.0+dfsg1+llvm-4ubuntu1~18.04.1) ...\n",
            "Setting up cargo (0.54.0-0ubuntu1~18.04.1) ...\n",
            "Processing triggers for libc-bin (2.27-3ubuntu1.3) ...\n",
            "/sbin/ldconfig.real: /usr/local/lib/python3.7/dist-packages/ideep4py/lib/libmkldnn.so.0 is not a symbolic link\n",
            "\n",
            "Processing triggers for man-db (2.8.3-2ubuntu0.1) ...\n"
          ]
        }
      ]
    },
    {
      "cell_type": "code",
      "execution_count": 4,
      "metadata": {
        "colab": {
          "base_uri": "https://localhost:8080/"
        },
        "id": "nuNq1VEo4VSR",
        "outputId": "0b9eb608-a6b5-4fcb-fa3d-b0892038805e"
      },
      "outputs": [
        {
          "output_type": "stream",
          "name": "stdout",
          "text": [
            "Collecting git+https://github.com/alinear-corp/kuzukiri.git\n",
            "  Cloning https://github.com/alinear-corp/kuzukiri.git to /tmp/pip-req-build-13qqcb03\n",
            "  Running command git clone -q https://github.com/alinear-corp/kuzukiri.git /tmp/pip-req-build-13qqcb03\n",
            "  Installing build dependencies ... \u001b[?25l\u001b[?25hdone\n",
            "  Getting requirements to build wheel ... \u001b[?25l\u001b[?25hdone\n",
            "    Preparing wheel metadata ... \u001b[?25l\u001b[?25hdone\n",
            "Building wheels for collected packages: kuzukiri\n",
            "  Building wheel for kuzukiri (PEP 517) ... \u001b[?25l\u001b[?25hdone\n",
            "  Created wheel for kuzukiri: filename=kuzukiri-0.0.1-cp37-cp37m-linux_x86_64.whl size=2464128 sha256=8c2ae580d741fac9d510194f06a9650e5cd8e4fd73a5c80e13f3b9ec101a1d68\n",
            "  Stored in directory: /tmp/pip-ephem-wheel-cache-46rt4fz8/wheels/92/82/0e/464ba56ea8cbc9ec0382a9bca14bfd4d6d5ace0173ed2b984f\n",
            "Successfully built kuzukiri\n",
            "Installing collected packages: kuzukiri\n",
            "Successfully installed kuzukiri-0.0.1\n"
          ]
        }
      ],
      "source": [
        "! pip install git+https://github.com/alinear-corp/kuzukiri.git"
      ]
    },
    {
      "cell_type": "code",
      "source": [
        "! pip install ja_sentence_segmenter"
      ],
      "metadata": {
        "colab": {
          "base_uri": "https://localhost:8080/"
        },
        "id": "3mz5L3N44mac",
        "outputId": "1971102b-5521-4b4e-b07b-f93913ed79df"
      },
      "execution_count": 5,
      "outputs": [
        {
          "output_type": "stream",
          "name": "stdout",
          "text": [
            "Collecting ja_sentence_segmenter\n",
            "  Downloading ja_sentence_segmenter-0.0.2-py3-none-any.whl (8.6 kB)\n",
            "Installing collected packages: ja-sentence-segmenter\n",
            "Successfully installed ja-sentence-segmenter-0.0.2\n"
          ]
        }
      ]
    },
    {
      "cell_type": "code",
      "source": [
        "! wget https://github.com/jnory/datasets/raw/master/wikinews/jawikinews.json"
      ],
      "metadata": {
        "colab": {
          "base_uri": "https://localhost:8080/"
        },
        "id": "q-AC8vO_4xf1",
        "outputId": "f2e8f304-8357-409c-c395-6fc71a2e4d65"
      },
      "execution_count": 6,
      "outputs": [
        {
          "output_type": "stream",
          "name": "stdout",
          "text": [
            "--2021-12-12 14:28:19--  https://github.com/jnory/datasets/raw/master/wikinews/jawikinews.json\n",
            "Resolving github.com (github.com)... 140.82.113.4\n",
            "Connecting to github.com (github.com)|140.82.113.4|:443... connected.\n",
            "HTTP request sent, awaiting response... 302 Found\n",
            "Location: https://raw.githubusercontent.com/jnory/datasets/master/wikinews/jawikinews.json [following]\n",
            "--2021-12-12 14:28:19--  https://raw.githubusercontent.com/jnory/datasets/master/wikinews/jawikinews.json\n",
            "Resolving raw.githubusercontent.com (raw.githubusercontent.com)... 185.199.108.133, 185.199.109.133, 185.199.110.133, ...\n",
            "Connecting to raw.githubusercontent.com (raw.githubusercontent.com)|185.199.108.133|:443... connected.\n",
            "HTTP request sent, awaiting response... 200 OK\n",
            "Length: 6796960 (6.5M) [text/plain]\n",
            "Saving to: ‘jawikinews.json’\n",
            "\n",
            "jawikinews.json     100%[===================>]   6.48M  --.-KB/s    in 0.04s   \n",
            "\n",
            "2021-12-12 14:28:20 (181 MB/s) - ‘jawikinews.json’ saved [6796960/6796960]\n",
            "\n"
          ]
        }
      ]
    },
    {
      "cell_type": "markdown",
      "source": [
        "## prepare dataset"
      ],
      "metadata": {
        "id": "wVcheSgd7dJ-"
      }
    },
    {
      "cell_type": "markdown",
      "source": [
        "Corpus was built from wikinews-ja."
      ],
      "metadata": {
        "id": "Iy2aspa5DUXh"
      }
    },
    {
      "cell_type": "code",
      "source": [
        "import json\n",
        "\n",
        "with open(\"jawikinews.json\") as file:\n",
        "    dataset = json.loads(file.read())"
      ],
      "metadata": {
        "id": "-NV2aPcj6kXE"
      },
      "execution_count": 7,
      "outputs": []
    },
    {
      "cell_type": "code",
      "source": [
        "dataset[0]"
      ],
      "metadata": {
        "colab": {
          "base_uri": "https://localhost:8080/"
        },
        "id": "biYHkSno6tuz",
        "outputId": "6b5e9e76-46b2-48fc-87a1-a836e6e864dc"
      },
      "execution_count": 8,
      "outputs": [
        {
          "output_type": "execute_result",
          "data": {
            "text/plain": [
              "{'categories': ['社会'],\n",
              " 'id': 1403,\n",
              " 'text': '2005年7月14日、南アフリカ共和国ダーバンで開催中の第29回世界遺産会議で、ノルウェーのフィヨルドと日本の知床半島（北海道）含め世界7カ所がユネスコの世界自然遺産に登録された。また既存2カ所の自然遺産の登録範囲の拡張が認められた。この追加により、登録された世界遺産の数は、自然遺産160、複合遺産24となる。\\n知床半島は、日本国内では、屋久島、白神山地につぐ三番目の世界自然遺産になった。北海道内では、文化遺産、複合遺産をあわせ、はじめての世界遺産登録である。\\n知床半島は羅臼岳(1660m)などを含む知床火山層を中心に形成され、オホーツク海に突き出た半島である。山間部には針葉樹のエゾマツ、トドマツや広葉樹のダケカンバ、ミズナラの原生林がしげり、山頂部や稜線には高山植物群落がみられる。また冬季には流氷がみられ、海面が凍結する。知床半島の世界遺産登録に際しては、こうした自然環境における特色ある豊かな生態系、とりわけ絶滅危惧種を含む生物種の保存への意義が高く評価された。知床半島に生息する動物には、トドやクジラなどの海域に生息する哺乳類、ヒグマ、シマフクロウを含む野鳥類などがある。\\n知床半島中部から先の山岳部と海岸部は1964年知床国立公園に指定された。その後、知床岬周辺は規制の厳しい特別保護地区に指定されるとともに立ち入りが禁止されている。（日本語版ウィキペディア「知床半島」より）。\\n今回登録された世界自然遺産は、先の2つを含め、以下の7つである。\\nフレーデフォート・ドーム（南アフリカ）\\nワジ・アル＝ヒタンの鯨渓谷（エジプト）\\n知床（日本）\\n西ノルウェーのフィヨルド、ガイランゲル・フィヨルドおよびナールオイ・フィヨルド（ノルウェー）\\nカリフォルニア湾の諸島および保護地域（メキシコ）\\nドンパヤーイェン――カオヤイ森林地帯（タイ）\\nコイバ国立公園とその海洋保護特別地域（パナマ）\\nまた、以下の2つの世界自然遺産の登録範囲が拡張された。\\nフラワーズ渓谷国立公園（インド）\\nセント・キルダ（イギリス）\\n世界遺産会議はユネスコ主催で年一回開催され、世界遺産の新規登録や登録物件の現状の評価などを行う。世界遺産の登録にあたっては、登録を求める地域の担当政府機関が候補地を推薦し、ユネスコ世界遺産委員会に暫定リストを提出する。委員会は国連機関に現地調査を依頼し、その結果を受けて登録推薦を行い、年1回開催される世界遺産会議で正式な登録を行う。登録後は、保全状況を6年ごとに報告し、世界遺産委員会での再審査を受ける必要がある。\\n自然遺産の決定に先立ち、水曜日13日には、世界遺産会議は、保全努力で好成績をあげた危機遺産リストの3件の取り消しを決定している。危機遺産リストから取り消されたのは、 のサンガイ国立公園、の、のブトリントである。\\n世界遺産会議は7月17日まで続き、文化遺産と危機遺産リストへの新規登録を審議する。',\n",
              " 'title': '世界自然遺産に7箇所を追加 知床半島も'}"
            ]
          },
          "metadata": {},
          "execution_count": 8
        }
      ]
    },
    {
      "cell_type": "code",
      "source": [
        "texts = [d[\"text\"] for d in dataset]"
      ],
      "metadata": {
        "id": "gYQYFJKS93gy"
      },
      "execution_count": 9,
      "outputs": []
    },
    {
      "cell_type": "code",
      "source": [
        "texts[:3]"
      ],
      "metadata": {
        "colab": {
          "base_uri": "https://localhost:8080/"
        },
        "id": "qyEhAL4M94we",
        "outputId": "3d343e37-6c18-4404-ad30-ab4ac147d57b"
      },
      "execution_count": 10,
      "outputs": [
        {
          "output_type": "execute_result",
          "data": {
            "text/plain": [
              "['2005年7月14日、南アフリカ共和国ダーバンで開催中の第29回世界遺産会議で、ノルウェーのフィヨルドと日本の知床半島（北海道）含め世界7カ所がユネスコの世界自然遺産に登録された。また既存2カ所の自然遺産の登録範囲の拡張が認められた。この追加により、登録された世界遺産の数は、自然遺産160、複合遺産24となる。\\n知床半島は、日本国内では、屋久島、白神山地につぐ三番目の世界自然遺産になった。北海道内では、文化遺産、複合遺産をあわせ、はじめての世界遺産登録である。\\n知床半島は羅臼岳(1660m)などを含む知床火山層を中心に形成され、オホーツク海に突き出た半島である。山間部には針葉樹のエゾマツ、トドマツや広葉樹のダケカンバ、ミズナラの原生林がしげり、山頂部や稜線には高山植物群落がみられる。また冬季には流氷がみられ、海面が凍結する。知床半島の世界遺産登録に際しては、こうした自然環境における特色ある豊かな生態系、とりわけ絶滅危惧種を含む生物種の保存への意義が高く評価された。知床半島に生息する動物には、トドやクジラなどの海域に生息する哺乳類、ヒグマ、シマフクロウを含む野鳥類などがある。\\n知床半島中部から先の山岳部と海岸部は1964年知床国立公園に指定された。その後、知床岬周辺は規制の厳しい特別保護地区に指定されるとともに立ち入りが禁止されている。（日本語版ウィキペディア「知床半島」より）。\\n今回登録された世界自然遺産は、先の2つを含め、以下の7つである。\\nフレーデフォート・ドーム（南アフリカ）\\nワジ・アル＝ヒタンの鯨渓谷（エジプト）\\n知床（日本）\\n西ノルウェーのフィヨルド、ガイランゲル・フィヨルドおよびナールオイ・フィヨルド（ノルウェー）\\nカリフォルニア湾の諸島および保護地域（メキシコ）\\nドンパヤーイェン――カオヤイ森林地帯（タイ）\\nコイバ国立公園とその海洋保護特別地域（パナマ）\\nまた、以下の2つの世界自然遺産の登録範囲が拡張された。\\nフラワーズ渓谷国立公園（インド）\\nセント・キルダ（イギリス）\\n世界遺産会議はユネスコ主催で年一回開催され、世界遺産の新規登録や登録物件の現状の評価などを行う。世界遺産の登録にあたっては、登録を求める地域の担当政府機関が候補地を推薦し、ユネスコ世界遺産委員会に暫定リストを提出する。委員会は国連機関に現地調査を依頼し、その結果を受けて登録推薦を行い、年1回開催される世界遺産会議で正式な登録を行う。登録後は、保全状況を6年ごとに報告し、世界遺産委員会での再審査を受ける必要がある。\\n自然遺産の決定に先立ち、水曜日13日には、世界遺産会議は、保全努力で好成績をあげた危機遺産リストの3件の取り消しを決定している。危機遺産リストから取り消されたのは、 のサンガイ国立公園、の、のブトリントである。\\n世界遺産会議は7月17日まで続き、文化遺産と危機遺産リストへの新規登録を審議する。',\n",
              " '7月14日、第133回の芥川賞、直木賞（日本文学振興会）の選考会が東京の築地・新喜楽で行われた。芥川賞は「土の中の子供」を書いた中村文則 (27)、直木賞は「花まんま」を書いた朱川湊人（しゅかわ・みなと、42）がそれぞれ受賞者に決定した。\\n「土の中の子供」は『新潮』四月号、「花まんま」は同題の短編集（文藝春秋刊）にそれぞれ発表されたもの。',\n",
              " 'J.K.ローリングの新作、ハリー・ポッターシリーズの第6巻『ハリー・ポッターと混血の王子』（仮題、原題Harry Potter and the Half-Blood Prince）が発売された。発売解禁はそれぞれの場所で真夜中に設定され、数百に上る書店がこのために店を特別にあけたとみられる。最初の一時間での売り上げは数万部にのぼり、さらに引き続きファンが詰め掛けている。発売解禁の波は、イギリスから大西洋を超えて北米大陸を横断し、各地で続々と書店がこの発売ラッシュに参入している。\\nカナダのブリティッシュコロンビア州最高裁は、本の販売解禁日時である7月16日真夜中に先立って、あらすじの詳細を公表してはならないとする裁判所命令を出した。この命令は、第6巻の販売解禁に先立って15部が偶然に売られたことに対して出されたもので、州最高裁はこの命令のなかで、複製、販売、本の内容についての議論だけでなく、読書そのものも禁止されると述べた。\\n著作権についての識者として知られるは、自身のウェブサイトで、この州最高裁命令に抗議し、『ハリー・ポッター』シリーズの不買運動を呼びかけている。ストールマンはこの州最高裁命令は「カナダにおける人権の敵」であると述べている。\\nCNN.com、\"Harry Potter frenzy begins\"\\nYahoo! News、\"Harry Potter Books Sold by Accident\"\\n英語版ウィキニュースより訳出。']"
            ]
          },
          "metadata": {},
          "execution_count": 10
        }
      ]
    },
    {
      "cell_type": "code",
      "source": [
        "long = \"\\n\".join(texts)"
      ],
      "metadata": {
        "id": "9jX1SYDE-lR0"
      },
      "execution_count": 11,
      "outputs": []
    },
    {
      "cell_type": "markdown",
      "source": [
        "## prepare splitters"
      ],
      "metadata": {
        "id": "nA0Novq97fFY"
      }
    },
    {
      "cell_type": "markdown",
      "source": [
        "### ja_sentence_segmenter\n",
        "\n",
        "Modified the code from https://github.com/wwwcojp/ja_sentence_segmenter#usage"
      ],
      "metadata": {
        "id": "7JL-2Z0h7n3G"
      }
    },
    {
      "cell_type": "code",
      "source": [
        "import functools\n",
        "\n",
        "from ja_sentence_segmenter.common.pipeline import make_pipeline\n",
        "from ja_sentence_segmenter.split.simple_splitter import split_newline, split_punctuation\n",
        "from ja_sentence_segmenter.split import simple_splitter\n",
        "\n",
        "simple_splitter.BETWEEN_PARENS_JA_REGEX = simple_splitter.BETWEEN_PARENS_JA_REGEX.replace(r\"\\(\", \"（\").replace(\"\\)\", \"）\").replace(\")\", \"）\")\n",
        "print(simple_splitter.BETWEEN_PARENS_JA_REGEX)\n",
        "\n",
        "split_punc2 = functools.partial(split_punctuation, punctuations=r\"。．，！？\")\n",
        "jss = make_pipeline(split_newline, split_punc2)"
      ],
      "metadata": {
        "colab": {
          "base_uri": "https://localhost:8080/"
        },
        "id": "5savfR8V62_z",
        "outputId": "a9a11ee6-a309-4f13-bf4d-c17ae50328ce"
      },
      "execution_count": 12,
      "outputs": [
        {
          "output_type": "stream",
          "name": "stdout",
          "text": [
            "（[^(）]*）\n"
          ]
        }
      ]
    },
    {
      "cell_type": "markdown",
      "source": [
        "### kuzukiri"
      ],
      "metadata": {
        "id": "XrGSiFTl9hoI"
      }
    },
    {
      "cell_type": "code",
      "source": [
        "import kuzukiri\n",
        "\n",
        "kuzu = kuzukiri.Segmenter(force={\"\\n\"})"
      ],
      "metadata": {
        "id": "enOG_N_S88fy"
      },
      "execution_count": 13,
      "outputs": []
    },
    {
      "cell_type": "markdown",
      "source": [
        "### comparable (naive) implementation in pure python"
      ],
      "metadata": {
        "id": "46Zm64snDuVK"
      }
    },
    {
      "cell_type": "code",
      "source": [
        "terminals = set(\"。．，！？\\n\")\n",
        "parens = {\n",
        "    '「': '」',\n",
        "    '『': '』',\n",
        "    '（': '）',\n",
        "    '［': '］',\n",
        "    '【': '】',\n",
        "}\n",
        "def _comparable(text):\n",
        "    buf = []\n",
        "    waiting_stack = []\n",
        "    for c in text:\n",
        "        buf.append(c)\n",
        "        end_paren = parens.get(c)\n",
        "        if end_paren is not None:\n",
        "            waiting_stack.append(end_paren)\n",
        "        elif len(waiting_stack) > 0:\n",
        "            if waiting_stack[-1] == c:\n",
        "                waiting_stack.pop()\n",
        "            elif c == \"\\n\":\n",
        "                yield \"\".join(buf)\n",
        "                waiting_stack = []\n",
        "                buf = []\n",
        "        elif c in terminals:\n",
        "            yield \"\".join(buf)\n",
        "            buf = []\n",
        "        \n",
        "        if len(buf) >= 1000:\n",
        "            yield \"\".join(buf)\n",
        "            buf = []\n",
        "            waiting_stack = []\n",
        "\n",
        "    if len(buf) > 0:\n",
        "        yield \"\".join(buf)\n",
        "\n",
        "\n",
        "def comparable(text):\n",
        "    return list(_comparable(text))"
      ],
      "metadata": {
        "id": "wEZAiJKQDovD"
      },
      "execution_count": 14,
      "outputs": []
    },
    {
      "cell_type": "markdown",
      "source": [
        "## Example"
      ],
      "metadata": {
        "id": "_XjPL35b_qVe"
      }
    },
    {
      "cell_type": "markdown",
      "source": [
        "### ja_sentence_segmenter"
      ],
      "metadata": {
        "id": "q2UULnen_3uH"
      }
    },
    {
      "cell_type": "code",
      "source": [
        "generator = jss(texts[0])\n",
        "print(next(generator))\n",
        "print(next(generator))"
      ],
      "metadata": {
        "colab": {
          "base_uri": "https://localhost:8080/"
        },
        "id": "nf2k3Y3j_Vfm",
        "outputId": "05563edc-2b19-4cf3-e01e-dd4f3f07f000"
      },
      "execution_count": 15,
      "outputs": [
        {
          "output_type": "stream",
          "name": "stdout",
          "text": [
            "2005年7月14日、南アフリカ共和国ダーバンで開催中の第29回世界遺産会議で、ノルウェーのフィヨルドと日本の知床半島（北海道）含め世界7カ所がユネスコの世界自然遺産に登録された。\n",
            "また既存2カ所の自然遺産の登録範囲の拡張が認められた。\n"
          ]
        }
      ]
    },
    {
      "cell_type": "markdown",
      "source": [
        "### comparable implementation"
      ],
      "metadata": {
        "id": "9dBWjtgNF6fB"
      }
    },
    {
      "cell_type": "code",
      "source": [
        "text1, text2 = comparable(texts[0])[:2]\n",
        "print(text1)\n",
        "print(text2)"
      ],
      "metadata": {
        "colab": {
          "base_uri": "https://localhost:8080/"
        },
        "id": "CMeJPb72F6Q3",
        "outputId": "24faea29-eda1-45a5-ffce-f18461203c24"
      },
      "execution_count": 16,
      "outputs": [
        {
          "output_type": "stream",
          "name": "stdout",
          "text": [
            "2005年7月14日、南アフリカ共和国ダーバンで開催中の第29回世界遺産会議で、ノルウェーのフィヨルドと日本の知床半島（北海道）含め世界7カ所がユネスコの世界自然遺産に登録された。\n",
            "また既存2カ所の自然遺産の登録範囲の拡張が認められた。\n"
          ]
        }
      ]
    },
    {
      "cell_type": "markdown",
      "source": [
        "### kuzukiri"
      ],
      "metadata": {
        "id": "sSz6Rp1kADPZ"
      }
    },
    {
      "cell_type": "code",
      "source": [
        "text1, text2 = kuzu.split(texts[0])[:2]\n",
        "print(text1)\n",
        "print(text2)"
      ],
      "metadata": {
        "colab": {
          "base_uri": "https://localhost:8080/"
        },
        "id": "hIX2kwTA_2p_",
        "outputId": "f39836ce-e53f-4e14-e2db-f1c1b68af5f4"
      },
      "execution_count": 17,
      "outputs": [
        {
          "output_type": "stream",
          "name": "stdout",
          "text": [
            "2005年7月14日、南アフリカ共和国ダーバンで開催中の第29回世界遺産会議で、ノルウェーのフィヨルドと日本の知床半島（北海道）含め世界7カ所がユネスコの世界自然遺産に登録された。\n",
            "また既存2カ所の自然遺産の登録範囲の拡張が認められた。\n"
          ]
        }
      ]
    },
    {
      "cell_type": "markdown",
      "source": [
        "Check the number of resulting sentences"
      ],
      "metadata": {
        "id": "i-k68DUSGTzO"
      }
    },
    {
      "cell_type": "code",
      "source": [
        "def norm(texts):\n",
        "    texts = [text.strip() for text in texts]\n",
        "    return [text for text in texts if text != \"\"]\n",
        "\n",
        "\n",
        "jss_result = list(jss(long))\n",
        "comparable_result = norm(comparable(long))\n",
        "kuzu_result = kuzu.split_with_norm(long)\n",
        "\n",
        "print(\"ja_sentence_segmenter:\", len(jss_result))\n",
        "print(\"comparable implementation:\", len(comparable_result))\n",
        "print(\"kuzukiri:\", len(kuzu_result))"
      ],
      "metadata": {
        "colab": {
          "base_uri": "https://localhost:8080/"
        },
        "id": "YKZq6_INGYmx",
        "outputId": "387dd243-c4fd-4185-83b4-19ab3a8fd752"
      },
      "execution_count": 18,
      "outputs": [
        {
          "output_type": "stream",
          "name": "stdout",
          "text": [
            "ja_sentence_segmenter: 37697\n",
            "comparable implementation: 37636\n",
            "kuzukiri: 37636\n"
          ]
        }
      ]
    },
    {
      "cell_type": "markdown",
      "source": [
        "## run benchmarks"
      ],
      "metadata": {
        "id": "wFNeG-Ij9mZx"
      }
    },
    {
      "cell_type": "markdown",
      "source": [
        "### ja_sentence_segmenter"
      ],
      "metadata": {
        "id": "pjdXjyXeAdmr"
      }
    },
    {
      "cell_type": "code",
      "source": [
        "%%timeit -n20\n",
        "\n",
        "[list(jss(text)) for text in texts]"
      ],
      "metadata": {
        "colab": {
          "base_uri": "https://localhost:8080/"
        },
        "id": "AYiMDZuA9gb_",
        "outputId": "84e5adc9-a22f-4e9a-e10a-842b93f2527d"
      },
      "execution_count": 19,
      "outputs": [
        {
          "output_type": "stream",
          "name": "stdout",
          "text": [
            "20 loops, best of 5: 469 ms per loop\n"
          ]
        }
      ]
    },
    {
      "cell_type": "code",
      "source": [
        "%%timeit -n20\n",
        "\n",
        "list(jss(long))"
      ],
      "metadata": {
        "colab": {
          "base_uri": "https://localhost:8080/"
        },
        "id": "sANaZ4iX-KrU",
        "outputId": "ebd0f552-16f3-4a39-8504-8d928a4ce227"
      },
      "execution_count": 20,
      "outputs": [
        {
          "output_type": "stream",
          "name": "stdout",
          "text": [
            "20 loops, best of 5: 440 ms per loop\n"
          ]
        }
      ]
    },
    {
      "cell_type": "markdown",
      "source": [
        "### comparable implementation"
      ],
      "metadata": {
        "id": "pcxUeKK9VijE"
      }
    },
    {
      "cell_type": "code",
      "source": [
        "%%timeit -n20\n",
        "\n",
        "[comparable(text) for text in texts]"
      ],
      "metadata": {
        "colab": {
          "base_uri": "https://localhost:8080/"
        },
        "id": "-rGjSoMhViQx",
        "outputId": "a45f7437-08ba-4236-85ae-534837b0fa68"
      },
      "execution_count": 21,
      "outputs": [
        {
          "output_type": "stream",
          "name": "stdout",
          "text": [
            "20 loops, best of 5: 1.08 s per loop\n"
          ]
        }
      ]
    },
    {
      "cell_type": "code",
      "source": [
        "%%timeit -n20\n",
        "\n",
        "comparable(long)"
      ],
      "metadata": {
        "colab": {
          "base_uri": "https://localhost:8080/"
        },
        "id": "Oa10uV3SVofV",
        "outputId": "f11110b3-be8b-47e5-bf8a-511593d2957d"
      },
      "execution_count": 22,
      "outputs": [
        {
          "output_type": "stream",
          "name": "stdout",
          "text": [
            "20 loops, best of 5: 1.08 s per loop\n"
          ]
        }
      ]
    },
    {
      "cell_type": "markdown",
      "source": [
        "### kuzukiri"
      ],
      "metadata": {
        "id": "qN7pfqsLAneJ"
      }
    },
    {
      "cell_type": "code",
      "source": [
        "%%timeit -n20\n",
        "\n",
        "[kuzu.split(text) for text in texts]"
      ],
      "metadata": {
        "colab": {
          "base_uri": "https://localhost:8080/"
        },
        "id": "NreRepzv-FcN",
        "outputId": "8370b0d1-da1f-417a-9432-15e21d93bb89"
      },
      "execution_count": 23,
      "outputs": [
        {
          "output_type": "stream",
          "name": "stdout",
          "text": [
            "20 loops, best of 5: 167 ms per loop\n"
          ]
        }
      ]
    },
    {
      "cell_type": "code",
      "source": [
        "%%timeit -n20\n",
        "\n",
        "kuzu.split(long)"
      ],
      "metadata": {
        "colab": {
          "base_uri": "https://localhost:8080/"
        },
        "id": "qwlnX26R-sMR",
        "outputId": "90248d6e-4a75-4494-815c-e4336e2eab77"
      },
      "execution_count": 24,
      "outputs": [
        {
          "output_type": "stream",
          "name": "stdout",
          "text": [
            "20 loops, best of 5: 154 ms per loop\n"
          ]
        }
      ]
    },
    {
      "cell_type": "code",
      "source": [
        "%%timeit -n20\n",
        "\n",
        "[kuzu.split_with_norm(text) for text in texts]"
      ],
      "metadata": {
        "colab": {
          "base_uri": "https://localhost:8080/"
        },
        "id": "4UImj376-2gR",
        "outputId": "d50ab3b2-b54c-4d66-d7fb-efb9318283e5"
      },
      "execution_count": 25,
      "outputs": [
        {
          "output_type": "stream",
          "name": "stdout",
          "text": [
            "20 loops, best of 5: 297 ms per loop\n"
          ]
        }
      ]
    },
    {
      "cell_type": "code",
      "source": [
        "%%timeit -n20\n",
        "\n",
        "kuzu.split_with_norm(long)"
      ],
      "metadata": {
        "colab": {
          "base_uri": "https://localhost:8080/"
        },
        "id": "oXyX8WfuY_zA",
        "outputId": "f4301b24-21af-44a6-bb3c-82d3ba9fc21a"
      },
      "execution_count": 26,
      "outputs": [
        {
          "output_type": "stream",
          "name": "stdout",
          "text": [
            "20 loops, best of 5: 283 ms per loop\n"
          ]
        }
      ]
    },
    {
      "cell_type": "code",
      "source": [
        ""
      ],
      "metadata": {
        "id": "_XPzhe7hZB7O"
      },
      "execution_count": 26,
      "outputs": []
    }
  ]
}